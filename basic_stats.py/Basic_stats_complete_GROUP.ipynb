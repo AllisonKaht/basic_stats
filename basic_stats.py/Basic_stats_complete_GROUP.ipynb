{
 "cells": [
  {
   "cell_type": "markdown",
   "metadata": {},
   "source": [
    "## Script to calculate Basic Statistics"
   ]
  },
  {
   "cell_type": "markdown",
   "metadata": {},
   "source": [
    "### Equation for the mean:   $\\mu_x = \\sum_{i=1}^{N}\\frac{x_i}{N}$\n",
    "\n",
    "### Equation for the standard deviation:  $\\sigma_x = \\sqrt{\\sum_{i=1}^{N}\\left(x_i - \\mu \\right)^2}\\frac{1}{N-1}$\n",
    "\n",
    "\n",
    "**Instructions:**\n",
    "\n",
    "**(1) Before you write code, write an algorithm that describes the sequence of steps you will take to compute the mean and standard deviation for your samples.  The algorithm can be written in pseudocode or as an itemized list.***\n",
    "\n",
    "**(2) Use 'for' loops to help yourself compute the average and standard deviation.**\n",
    "\n",
    "**(3) Use for loops and conditional operators to count the number of samples within $1\\sigma$ of the mean.**\n",
    "\n",
    "**Note:** It is not acceptable to use the pre-programmed routines for mean and st. dev., e.g. numpy.mean()"
   ]
  },
  {
   "cell_type": "markdown",
   "metadata": {},
   "source": [
    "### Edit this box to write an algorithm for computing the mean and std. deviation.\n",
    "2.a) Mean:\n",
    "- Initialize a sum and count variable\n",
    "- For each element in the input list\n",
    "    - Increment count by 1\n",
    "    - Add that element's value to the sum\n",
    "- Divide sum by count\n",
    "- Return result\n",
    "\n",
    "2.b) Std Dev:\n",
    "- Compute average of the list as above\n",
    "- Initialize a sum and count variable\n",
    "- For each element in the input list\n",
    "    - Increment count by 1\n",
    "    - Compute (that element's value minus average) squared\n",
    "    - Add that result to the sum\n",
    "- Take square root of sum\n",
    "- Divide this by (count - 1)\n",
    "- Return result\n",
    "\n",
    "\n",
    "\n",
    "\n",
    "\n",
    "\n"
   ]
  },
  {
   "cell_type": "markdown",
   "metadata": {},
   "source": [
    "### Write your code using instructions in the cells below."
   ]
  },
  {
   "cell_type": "code",
   "execution_count": 1,
   "metadata": {},
   "outputs": [],
   "source": [
    "# Put your Header information here.  Name, creation date, version, etc.\n",
    "\n"
   ]
  },
  {
   "cell_type": "code",
   "execution_count": 3,
   "metadata": {},
   "outputs": [],
   "source": [
    "# Import the matplotlib module here.  No other modules should be used.\n",
    "import matplotlib.pyplot as plt"
   ]
  },
  {
   "cell_type": "code",
   "execution_count": 4,
   "metadata": {},
   "outputs": [],
   "source": [
    "# Create a list variable that contains at least 25 elements.  You can create this list any number of ways.  \n",
    "# This will be your sample.\n",
    "x = [1,2,3,4,5,6,7,8,9,1,2,3,4,5,6,7,8,9,1,2,3,4,5,6,7,8,9]\n"
   ]
  },
  {
   "cell_type": "code",
   "execution_count": 5,
   "metadata": {},
   "outputs": [
    {
     "name": "stdout",
     "output_type": "stream",
     "text": [
      "27\n"
     ]
    }
   ],
   "source": [
    "# Pretend you do not know how long x is; compute it's length, N, without using functions or modules.\n",
    "N = 0\n",
    "for i in x:\n",
    "    N+=1\n",
    "print(N)"
   ]
  },
  {
   "cell_type": "code",
   "execution_count": 6,
   "metadata": {},
   "outputs": [
    {
     "name": "stdout",
     "output_type": "stream",
     "text": [
      "5.0\n"
     ]
    }
   ],
   "source": [
    "# Compute the mean of the elements in list x.\n",
    "sum1 = 0\n",
    "count = 0\n",
    "for i in x:\n",
    "    count+=1\n",
    "    sum1+=i\n",
    "mu = sum1/count\n",
    "print(mu)"
   ]
  },
  {
   "cell_type": "code",
   "execution_count": 7,
   "metadata": {},
   "outputs": [
    {
     "name": "stdout",
     "output_type": "stream",
     "text": [
      "0.5160156871153361\n"
     ]
    }
   ],
   "source": [
    "# Compute the std deviation, using the mean and the elements in list x.\n",
    "sum2 = 0\n",
    "count2 = 0\n",
    "for i in x:\n",
    "    count2+=1\n",
    "    diff = (i-mu)**2\n",
    "    sum2 += diff\n",
    "sigma = (sum2**0.5)/(count2-1)\n",
    "print(sigma)\n",
    "\n",
    "\n"
   ]
  },
  {
   "cell_type": "code",
   "execution_count": 8,
   "metadata": {},
   "outputs": [
    {
     "name": "stdout",
     "output_type": "stream",
     "text": [
      "5.0\n",
      "0.5160156871153361\n"
     ]
    }
   ],
   "source": [
    "# Use the 'print' command to report the values of average (mu) and std. dev. (sigma).\n",
    "print(mu)\n",
    "print(sigma)\n",
    "\n"
   ]
  },
  {
   "cell_type": "code",
   "execution_count": 9,
   "metadata": {},
   "outputs": [
    {
     "name": "stdout",
     "output_type": "stream",
     "text": [
      "3\n"
     ]
    }
   ],
   "source": [
    "# Count the number of values that are within +/- 1 std. deviation of the mean.  \n",
    "# A normal distribution will have approx. 68% of the values within this range.  \n",
    "# Based on this criteria is the list normally distributed?\n",
    "upper = mu + sigma\n",
    "lower = mu - sigma\n",
    "count3 = 0\n",
    "for i in x:\n",
    "    if i < upper:\n",
    "        if i > lower:\n",
    "            count3 += 1\n",
    "print(count3)\n",
    "\n"
   ]
  },
  {
   "cell_type": "code",
   "execution_count": 10,
   "metadata": {},
   "outputs": [
    {
     "name": "stdout",
     "output_type": "stream",
     "text": [
      "Not normally distributed\n"
     ]
    }
   ],
   "source": [
    "# Use print() and if statements to report a message about whether the data is normally distributed.\n",
    "if count3/N > 0.67:\n",
    "    if count3/N < 0.69:\n",
    "        print('Normally distributed')\n",
    "else:\n",
    "    print('Not normally distributed')\n",
    "                \n",
    "        \n",
    "\n"
   ]
  },
  {
   "cell_type": "code",
   "execution_count": 11,
   "metadata": {},
   "outputs": [
    {
     "data": {
      "text/plain": [
       "(array([3., 3., 3., 3., 0., 3., 3., 3., 3., 3.]),\n",
       " array([1. , 1.8, 2.6, 3.4, 4.2, 5. , 5.8, 6.6, 7.4, 8.2, 9. ]),\n",
       " <a list of 10 Patch objects>)"
      ]
     },
     "execution_count": 11,
     "metadata": {},
     "output_type": "execute_result"
    },
    {
     "data": {
      "image/png": "[encoded data removed]",
      "text/plain": [
       "<Figure size 432x288 with 1 Axes>"
      ]
     },
     "metadata": {
      "needs_background": "light"
     },
     "output_type": "display_data"
    }
   ],
   "source": [
    "### Use Matplotlb.pyplot to make a histogram of x.\n",
    "plt.hist(x)\n",
    "\n"
   ]
  },
  {
   "cell_type": "markdown",
   "metadata": {
    "jupyter": {
     "outputs_hidden": true
    }
   },
   "source": [
    "### OCG 593 students, look up an equation for Skewness and write code to compute the skewness. \n",
    "#### Compute the skewness and report whether the sample is normally distributed."
   ]
  },
  {
   "cell_type": "code",
   "execution_count": 12,
   "metadata": {},
   "outputs": [
    {
     "name": "stdout",
     "output_type": "stream",
     "text": [
      "0.0\n"
     ]
    }
   ],
   "source": [
    "count4 = 0\n",
    "diff2 = 0\n",
    "sum4 = 0\n",
    "for i in x:\n",
    "    diff2 = (i-mu)**3\n",
    "    sum4 += diff2\n",
    "    count4 +=1\n",
    "skew = sum4/((count4 - 1)*mu**3)\n",
    "print(skew)"
   ]
  },
  {
   "cell_type": "code",
   "execution_count": null,
   "metadata": {},
   "outputs": [],
   "source": []
  }
 ],
 "metadata": {
  "kernelspec": {
   "display_name": "Python 3",
   "language": "python",
   "name": "python3"
  },
  "language_info": {
   "codemirror_mode": {
    "name": "ipython",
    "version": 3
   },
   "file_extension": ".py",
   "mimetype": "text/x-python",
   "name": "python",
   "nbconvert_exporter": "python",
   "pygments_lexer": "ipython3",
   "version": "3.7.4"
  }
 },
 "nbformat": 4,
 "nbformat_minor": 4
}
